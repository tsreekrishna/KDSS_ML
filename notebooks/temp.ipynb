{
 "cells": [
  {
   "cell_type": "code",
   "execution_count": 4,
   "metadata": {},
   "outputs": [],
   "source": [
    "import geopandas as gp\n",
    "import pandas as pd\n",
    "import uuid\n",
    "import pickle\n",
    "\n",
    "raw_data= pd.read_csv(\"../artifacts/data/raw/raw_bronze_format.csv\")\n",
    "data = gp.GeoDataFrame(raw_data[['geometry', 'ndvi_fn', 'ndvi_value']])\n",
    "data = data.pivot_table(values=['ndvi_value'], index=['geometry'], columns=['ndvi_fn'], aggfunc='first')\n",
    "data = data.droplevel(0, axis=1).rename_axis(None, axis=1)\n",
    "other_cols = raw_data.groupby('geometry')[['crop_name', 'date', 'district', 'tehsil', 'state']].first()\n",
    "data = data.merge(other_cols, left_index=True, right_index=True, how='inner').reset_index()\n",
    "feature_order = ['geometry', 'date', 'state', 'district', \"tehsil\", 'oct_1f', 'oct_2f', 'nov_1f', 'nov_2f', 'dec_1f', \n",
    "                 'dec_2f', 'jan_1f', 'jan_2f', 'feb_1f', 'feb_2f', 'mar_1f', 'mar_2f', 'apr_1f', 'apr_2f', 'crop_name']\n",
    "\n",
    "data = data[feature_order]\n",
    "\n",
    "data.rename(columns={'crop_name':'crop_type'}, inplace=True)"
   ]
  },
  {
   "cell_type": "code",
   "execution_count": 6,
   "metadata": {},
   "outputs": [],
   "source": [
    "data.index = data.index.map(lambda x: uuid.uuid4())\n",
    "\n",
    "with open('../artifacts/data/raw/master_pickle_raw.pkl', 'wb') as file:\n",
    "    pickle.dump(data.to_dict(), file)"
   ]
  },
  {
   "cell_type": "code",
   "execution_count": 8,
   "metadata": {},
   "outputs": [
    {
     "ename": "FileNotFoundError",
     "evalue": "[Errno 2] No such file or directory: '../data/master_picke_raw'",
     "output_type": "error",
     "traceback": [
      "\u001b[0;31m---------------------------------------------------------------------------\u001b[0m",
      "\u001b[0;31mFileNotFoundError\u001b[0m                         Traceback (most recent call last)",
      "Cell \u001b[0;32mIn[8], line 4\u001b[0m\n\u001b[1;32m      1\u001b[0m \u001b[39mimport\u001b[39;00m \u001b[39mpickle\u001b[39;00m\n\u001b[0;32m----> 4\u001b[0m \u001b[39mwith\u001b[39;00m \u001b[39mopen\u001b[39;49m(\u001b[39m'\u001b[39;49m\u001b[39m../data/master_picke_raw\u001b[39;49m\u001b[39m'\u001b[39;49m, \u001b[39m'\u001b[39;49m\u001b[39mrb\u001b[39;49m\u001b[39m'\u001b[39;49m) \u001b[39mas\u001b[39;00m file:\n\u001b[1;32m      5\u001b[0m     raw_data_path \u001b[39m=\u001b[39m pickle\u001b[39m.\u001b[39mload(file)\n",
      "File \u001b[0;32m~/scratchi/KDSS/miniconda3/envs/kdss/lib/python3.9/site-packages/IPython/core/interactiveshell.py:310\u001b[0m, in \u001b[0;36m_modified_open\u001b[0;34m(file, *args, **kwargs)\u001b[0m\n\u001b[1;32m    303\u001b[0m \u001b[39mif\u001b[39;00m file \u001b[39min\u001b[39;00m {\u001b[39m0\u001b[39m, \u001b[39m1\u001b[39m, \u001b[39m2\u001b[39m}:\n\u001b[1;32m    304\u001b[0m     \u001b[39mraise\u001b[39;00m \u001b[39mValueError\u001b[39;00m(\n\u001b[1;32m    305\u001b[0m         \u001b[39mf\u001b[39m\u001b[39m\"\u001b[39m\u001b[39mIPython won\u001b[39m\u001b[39m'\u001b[39m\u001b[39mt let you open fd=\u001b[39m\u001b[39m{\u001b[39;00mfile\u001b[39m}\u001b[39;00m\u001b[39m by default \u001b[39m\u001b[39m\"\u001b[39m\n\u001b[1;32m    306\u001b[0m         \u001b[39m\"\u001b[39m\u001b[39mas it is likely to crash IPython. If you know what you are doing, \u001b[39m\u001b[39m\"\u001b[39m\n\u001b[1;32m    307\u001b[0m         \u001b[39m\"\u001b[39m\u001b[39myou can use builtins\u001b[39m\u001b[39m'\u001b[39m\u001b[39m open.\u001b[39m\u001b[39m\"\u001b[39m\n\u001b[1;32m    308\u001b[0m     )\n\u001b[0;32m--> 310\u001b[0m \u001b[39mreturn\u001b[39;00m io_open(file, \u001b[39m*\u001b[39;49margs, \u001b[39m*\u001b[39;49m\u001b[39m*\u001b[39;49mkwargs)\n",
      "\u001b[0;31mFileNotFoundError\u001b[0m: [Errno 2] No such file or directory: '../data/master_picke_raw'"
     ]
    }
   ],
   "source": [
    "import pickle\n",
    "\n",
    "\n",
    "with open('../data/master_picke_raw', 'rb') as file:\n",
    "    raw_data_path = pickle.load(file)"
   ]
  },
  {
   "cell_type": "code",
   "execution_count": 9,
   "metadata": {},
   "outputs": [],
   "source": [
    "import geopandas as gp\n",
    "\n",
    "raw_data = gp.GeoDataFrame(raw_data_path)"
   ]
  },
  {
   "cell_type": "code",
   "execution_count": 15,
   "metadata": {},
   "outputs": [
    {
     "data": {
      "text/html": [
       "<div>\n",
       "<style scoped>\n",
       "    .dataframe tbody tr th:only-of-type {\n",
       "        vertical-align: middle;\n",
       "    }\n",
       "\n",
       "    .dataframe tbody tr th {\n",
       "        vertical-align: top;\n",
       "    }\n",
       "\n",
       "    .dataframe thead th {\n",
       "        text-align: right;\n",
       "    }\n",
       "</style>\n",
       "<table border=\"1\" class=\"dataframe\">\n",
       "  <thead>\n",
       "    <tr style=\"text-align: right;\">\n",
       "      <th></th>\n",
       "      <th>oct_1f</th>\n",
       "      <th>oct_2f</th>\n",
       "      <th>nov_1f</th>\n",
       "      <th>nov_2f</th>\n",
       "      <th>dec_1f</th>\n",
       "      <th>dec_2f</th>\n",
       "      <th>jan_1f</th>\n",
       "      <th>jan_2f</th>\n",
       "      <th>feb_1f</th>\n",
       "      <th>feb_2f</th>\n",
       "      <th>mar_1f</th>\n",
       "      <th>mar_2f</th>\n",
       "      <th>apr_1f</th>\n",
       "    </tr>\n",
       "  </thead>\n",
       "  <tbody>\n",
       "    <tr>\n",
       "      <th>4a761a4a-38cc-4f98-a3a4-1cb7246bc365</th>\n",
       "      <td>189.0</td>\n",
       "      <td>191.0</td>\n",
       "      <td>173.0</td>\n",
       "      <td>126.0</td>\n",
       "      <td>132.0</td>\n",
       "      <td>171.0</td>\n",
       "      <td>183.0</td>\n",
       "      <td>187.0</td>\n",
       "      <td>184.0</td>\n",
       "      <td>180.0</td>\n",
       "      <td>166.0</td>\n",
       "      <td>130.0</td>\n",
       "      <td>120.0</td>\n",
       "    </tr>\n",
       "    <tr>\n",
       "      <th>9c842300-c23f-4484-a3aa-a5c8f08f8f06</th>\n",
       "      <td>171.0</td>\n",
       "      <td>166.0</td>\n",
       "      <td>142.0</td>\n",
       "      <td>132.0</td>\n",
       "      <td>165.0</td>\n",
       "      <td>185.0</td>\n",
       "      <td>190.0</td>\n",
       "      <td>188.0</td>\n",
       "      <td>180.0</td>\n",
       "      <td>171.0</td>\n",
       "      <td>143.0</td>\n",
       "      <td>130.0</td>\n",
       "      <td>123.0</td>\n",
       "    </tr>\n",
       "  </tbody>\n",
       "</table>\n",
       "</div>"
      ],
      "text/plain": [
       "                                      oct_1f  oct_2f  nov_1f  nov_2f  dec_1f  \\\n",
       "4a761a4a-38cc-4f98-a3a4-1cb7246bc365   189.0   191.0   173.0   126.0   132.0   \n",
       "9c842300-c23f-4484-a3aa-a5c8f08f8f06   171.0   166.0   142.0   132.0   165.0   \n",
       "\n",
       "                                      dec_2f  jan_1f  jan_2f  feb_1f  feb_2f  \\\n",
       "4a761a4a-38cc-4f98-a3a4-1cb7246bc365   171.0   183.0   187.0   184.0   180.0   \n",
       "9c842300-c23f-4484-a3aa-a5c8f08f8f06   185.0   190.0   188.0   180.0   171.0   \n",
       "\n",
       "                                      mar_1f  mar_2f  apr_1f  \n",
       "4a761a4a-38cc-4f98-a3a4-1cb7246bc365   166.0   130.0   120.0  \n",
       "9c842300-c23f-4484-a3aa-a5c8f08f8f06   143.0   130.0   123.0  "
      ]
     },
     "execution_count": 15,
     "metadata": {},
     "output_type": "execute_result"
    }
   ],
   "source": [
    "from copy import deepcopy\n",
    "\n",
    "def dip_impute(row):\n",
    "    lst = deepcopy(row)\n",
    "    act_strt_idx = lst.index.get_loc('oct_2f')\n",
    "    for i in range(len(lst.loc['oct_2f':'apr_1f'])):\n",
    "        actual_idx = i + act_strt_idx\n",
    "        if ((lst.iloc[actual_idx-1] - lst.iloc[actual_idx]) >= 20) and ((lst.iloc[actual_idx+1] - lst.iloc[actual_idx]) >= 20):\n",
    "            lst.iloc[actual_idx] = (lst.iloc[actual_idx-1] + lst.iloc[actual_idx+1])/2\n",
    "    return lst\n",
    "\n",
    "raw_data.iloc[:2,5:-2].apply(dip_impute, axis=1)"
   ]
  },
  {
   "cell_type": "code",
   "execution_count": 19,
   "metadata": {},
   "outputs": [],
   "source": [
    "row = raw_data.iloc[0,5:-2]\n",
    "\n",
    "row.iloc[1] = 'gg'"
   ]
  },
  {
   "cell_type": "code",
   "execution_count": 20,
   "metadata": {},
   "outputs": [
    {
     "data": {
      "text/plain": [
       "oct_1f    189.0\n",
       "oct_2f       gg\n",
       "nov_1f    173.0\n",
       "nov_2f    126.0\n",
       "dec_1f    132.0\n",
       "dec_2f    171.0\n",
       "jan_1f    183.0\n",
       "jan_2f    187.0\n",
       "feb_1f    184.0\n",
       "feb_2f    180.0\n",
       "mar_1f    166.0\n",
       "mar_2f    130.0\n",
       "apr_1f    120.0\n",
       "Name: 4a761a4a-38cc-4f98-a3a4-1cb7246bc365, dtype: object"
      ]
     },
     "execution_count": 20,
     "metadata": {},
     "output_type": "execute_result"
    }
   ],
   "source": [
    "row"
   ]
  },
  {
   "cell_type": "code",
   "execution_count": 18,
   "metadata": {},
   "outputs": [
    {
     "data": {
      "text/plain": [
       "oct_1f    189.0\n",
       "oct_2f    191.0\n",
       "nov_1f    173.0\n",
       "nov_2f    126.0\n",
       "dec_1f    132.0\n",
       "dec_2f    171.0\n",
       "jan_1f    183.0\n",
       "jan_2f    187.0\n",
       "feb_1f    184.0\n",
       "feb_2f    180.0\n",
       "mar_1f    166.0\n",
       "mar_2f    130.0\n",
       "apr_1f    120.0\n",
       "Name: 4a761a4a-38cc-4f98-a3a4-1cb7246bc365, dtype: object"
      ]
     },
     "execution_count": 18,
     "metadata": {},
     "output_type": "execute_result"
    }
   ],
   "source": [
    "row"
   ]
  },
  {
   "cell_type": "code",
   "execution_count": 5,
   "metadata": {},
   "outputs": [
    {
     "ename": "TypeError",
     "evalue": "unhashable type: 'list'",
     "output_type": "error",
     "traceback": [
      "\u001b[0;31m---------------------------------------------------------------------------\u001b[0m",
      "\u001b[0;31mTypeError\u001b[0m                                 Traceback (most recent call last)",
      "Cell \u001b[0;32mIn[5], line 1\u001b[0m\n\u001b[0;32m----> 1\u001b[0m kr \u001b[39m=\u001b[39m {[\u001b[39m1\u001b[39m,\u001b[39m2\u001b[39m,\u001b[39m3\u001b[39m]:\u001b[39m4\u001b[39m, [\u001b[39m4\u001b[39m,\u001b[39m5\u001b[39m,\u001b[39m6\u001b[39m]:\u001b[39m7\u001b[39m}\n",
      "\u001b[0;31mTypeError\u001b[0m: unhashable type: 'list'"
     ]
    }
   ],
   "source": [
    "kr = {[1,2,3]:4, [4,5,6]:7}"
   ]
  }
 ],
 "metadata": {
  "kernelspec": {
   "display_name": "kdss",
   "language": "python",
   "name": "python3"
  },
  "language_info": {
   "codemirror_mode": {
    "name": "ipython",
    "version": 3
   },
   "file_extension": ".py",
   "mimetype": "text/x-python",
   "name": "python",
   "nbconvert_exporter": "python",
   "pygments_lexer": "ipython3",
   "version": "3.9.16"
  },
  "orig_nbformat": 4
 },
 "nbformat": 4,
 "nbformat_minor": 2
}
