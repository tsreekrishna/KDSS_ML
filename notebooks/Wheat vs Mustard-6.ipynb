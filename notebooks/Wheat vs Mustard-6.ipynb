{
 "cells": [
  {
   "cell_type": "markdown",
   "id": "f3b22f36",
   "metadata": {},
   "source": [
    "# Import Modules and Data"
   ]
  },
  {
   "cell_type": "code",
   "execution_count": 10,
   "id": "75a951d8",
   "metadata": {},
   "outputs": [],
   "source": [
    "from glob import glob\n",
    "import geopandas as gp\n",
    "import numpy as np\n",
    "import pandas as pd\n",
    "import pickle\n",
    "import random\n",
    "from copy import deepcopy\n",
    "from sklearn.metrics import precision_recall_fscore_support as score\n",
    "from sklearn.metrics import confusion_matrix\n",
    "from sklearn.metrics import classification_report\n",
    "import seaborn as sns\n",
    "import matplotlib.pyplot as plt\n",
    "from sklearn.model_selection import train_test_split\n",
    "from sklearn.preprocessing import StandardScaler\n",
    "from sklearn.utils.class_weight import compute_sample_weight\n",
    "from xgboost import XGBClassifier\n",
    "from sklearn.model_selection import ParameterGrid\n",
    "import os\n",
    "\n",
    "import warnings\n",
    "warnings.filterwarnings(\"ignore\")\n",
    "\n",
    "pd.options.display.max_rows = 100\n",
    "\n",
    "try:\n",
    "    if kernel_is_loaded:\n",
    "        pass\n",
    "except:\n",
    "    os.chdir('/'.join(os.getcwd().split('/')[:-1]))\n",
    "    kernel_is_loaded = True"
   ]
  },
  {
   "cell_type": "code",
   "execution_count": 11,
   "id": "5e74fca2",
   "metadata": {},
   "outputs": [],
   "source": [
    "train = pd.read_csv(r'data/train-4.csv')\n",
    "test = pd.read_csv(r'data/test-4.csv')\n",
    "val = pd.read_csv(r'data/val-4.csv')"
   ]
  },
  {
   "cell_type": "markdown",
   "id": "52bc91bb",
   "metadata": {},
   "source": [
    "# Seeding"
   ]
  },
  {
   "cell_type": "code",
   "execution_count": 12,
   "id": "954c2ac0",
   "metadata": {},
   "outputs": [],
   "source": [
    "def seed_everything(seed = 42):\n",
    "    random.seed(seed)\n",
    "    np.random.seed(seed)\n",
    "    \n",
    "seed_everything()"
   ]
  },
  {
   "cell_type": "markdown",
   "id": "c4fedcca",
   "metadata": {
    "canvas": {
     "comments": [],
     "componentType": "CodeCell",
     "copiedOriginId": null,
     "diskcache": false,
     "headerColor": "transparent",
     "id": "c6ec1d61-8bd2-43ce-a275-7af6500ecfed",
     "isComponent": false,
     "name": "",
     "parents": []
    }
   },
   "source": [
    "# Predictor and label split"
   ]
  },
  {
   "cell_type": "code",
   "execution_count": 13,
   "id": "f8e5bacb",
   "metadata": {
    "canvas": {
     "comments": [],
     "componentType": "CodeCell",
     "copiedOriginId": null,
     "diskcache": false,
     "headerColor": "transparent",
     "id": "ee19bb92-1c55-4b7c-83fe-f593d7549ec6",
     "isComponent": true,
     "name": "Nov-1f Predictor-label split",
     "parents": [
      {
       "id": "7b1f3c1f-271d-4801-9f11-9fe51ff40bdf",
       "name": "Nov-1f undersampling"
      }
     ]
    },
    "tags": []
   },
   "outputs": [],
   "source": [
    "X_train = train.drop('crop_name', axis=1)\n",
    "y_train = train['crop_name']\n",
    "\n",
    "X_val = val.drop('crop_name', axis=1)\n",
    "y_val = val['crop_name']\n",
    "\n",
    "X_test = test.drop('crop_name', axis=1)\n",
    "y_test = test['crop_name']"
   ]
  },
  {
   "cell_type": "markdown",
   "id": "70612411",
   "metadata": {
    "canvas": {
     "comments": [],
     "componentType": "CodeCell",
     "copiedOriginId": null,
     "diskcache": false,
     "headerColor": "transparent",
     "id": "d0b8079d-ec79-4936-9611-f220343dcb1c",
     "isComponent": false,
     "name": "",
     "parents": []
    }
   },
   "source": [
    "# Scaling"
   ]
  },
  {
   "cell_type": "code",
   "execution_count": 14,
   "id": "1b476501",
   "metadata": {
    "canvas": {
     "comments": [],
     "componentType": "CodeCell",
     "copiedOriginId": null,
     "diskcache": false,
     "headerColor": "transparent",
     "id": "e1d08b85-fc4b-44af-b3ca-c060577206a8",
     "isComponent": true,
     "name": "nov_1f scaling",
     "parents": [
      {
       "id": "ee19bb92-1c55-4b7c-83fe-f593d7549ec6",
       "name": "Nov-1f Predictor-label split"
      }
     ]
    },
    "tags": []
   },
   "outputs": [],
   "source": [
    "scaler = StandardScaler()\n",
    "\n",
    "X_train = pd.DataFrame(scaler.fit_transform(X_train), columns=X_train.columns)\n",
    "X_val = pd.DataFrame(scaler.transform(X_val), columns=X_val.columns)\n",
    "X_test = pd.DataFrame(scaler.transform(X_test), columns=X_test.columns)\n",
    "\n",
    "y_train.reset_index(drop=True, inplace=True)\n",
    "y_val.reset_index(drop=True, inplace=True)\n",
    "y_test.reset_index(drop=True, inplace=True)\n",
    "\n",
    "pickle.dump(scaler, open(r'models/standard_scaler.pkl', 'wb'))"
   ]
  },
  {
   "cell_type": "markdown",
   "id": "defb9f6b-a105-4e32-a8dd-c292e091b99d",
   "metadata": {},
   "source": [
    "# Building conformal prediction algorithm"
   ]
  },
  {
   "cell_type": "code",
   "execution_count": 15,
   "id": "f6f3b957-d17b-4dba-9803-00cd420bf5ff",
   "metadata": {},
   "outputs": [],
   "source": [
    "class _conformal_prediction:\n",
    "    def __init__(self, estimator):\n",
    "        self.estimator = estimator\n",
    "        self.quantile = None\n",
    "        self.coverage = None\n",
    "    def fit(self, X_cal, y_cal, alpha):\n",
    "        cal_pred_proba = self.estimator.predict_proba(X_cal)\n",
    "        scores = 1 - cal_pred_proba\n",
    "        true_class_scores = list(map(lambda row, idx:row[idx], scores, y_cal))\n",
    "        n = X_cal.shape[0]\n",
    "        self.coverage = (n+1)*(1 - alpha)/n\n",
    "        self.quantile = np.quantile(true_class_scores, self.coverage)\n",
    "    def predict(self, X_test):\n",
    "        test_pred_proba = self.estimator.predict_proba(X_test)\n",
    "        scores = 1 - test_pred_proba\n",
    "        def func(crop):\n",
    "            crop_set = (crop <= self.quantile).nonzero()[0]\n",
    "            if len(crop_set) == 0:\n",
    "                return np.nan\n",
    "            else:\n",
    "                return ' '.join(list(map(str, crop_set)))\n",
    "        pred_set = list(map(func, scores))\n",
    "        return test_pred_proba, pred_set"
   ]
  },
  {
   "cell_type": "markdown",
   "id": "7af21fbf",
   "metadata": {
    "canvas": {
     "comments": [],
     "componentType": "CodeCell",
     "copiedOriginId": null,
     "diskcache": false,
     "headerColor": "transparent",
     "id": "f0be5854-567a-4b1d-9044-b8bb41bbffbb",
     "isComponent": false,
     "name": "",
     "parents": []
    }
   },
   "source": [
    "# Modelling"
   ]
  },
  {
   "cell_type": "code",
   "execution_count": 16,
   "id": "7dc3305f",
   "metadata": {
    "canvas": {
     "comments": [],
     "componentType": "CodeCell",
     "copiedOriginId": null,
     "diskcache": false,
     "headerColor": "transparent",
     "id": "097a5079-0ef6-41ff-ae9e-4c0aeb3ce7c1",
     "isComponent": true,
     "name": "nov_1f model training",
     "parents": [
      {
       "id": "e1d08b85-fc4b-44af-b3ca-c060577206a8",
       "name": "nov_1f scaling"
      }
     ]
    },
    "scrolled": true,
    "tags": []
   },
   "outputs": [
    {
     "name": "stdout",
     "output_type": "stream",
     "text": [
      "0 dropped completed\n",
      "1 dropped completed\n",
      "2 dropped completed\n",
      "3 dropped completed\n",
      "4 dropped completed\n",
      "5 dropped completed\n",
      "6 dropped completed\n",
      "7 dropped completed\n",
      "8 dropped completed\n",
      "Done!!\n"
     ]
    }
   ],
   "source": [
    "fort_nights = list(X_train.loc[:, 'oct_2f':'apr_1f'].columns)\n",
    "\n",
    "params = {'n_estimators':np.arange(5,100,5), 'learning_rate':np.arange(0.05, 0.55, 0.05), \n",
    "          'max_depth':np.arange(1,5,1)}\n",
    "\n",
    "# sample_weights = compute_sample_weight(class_weight='balanced',y=y_train)\n",
    "\n",
    "param_grid = list(ParameterGrid(params))\n",
    "max_precision_scores = []\n",
    "best_params = []\n",
    "fns_used = []\n",
    "\n",
    "i = 0\n",
    "\n",
    "while (i + 4) <= len(fort_nights):\n",
    "    precision_scores = []\n",
    "    if i == 0:\n",
    "        drop_cols = []\n",
    "    else:\n",
    "        drop_cols = fort_nights[-i:]\n",
    "    for p in param_grid:\n",
    "        wheat_classifier = XGBClassifier(**p)\n",
    "        temp_X_train = X_train.drop(drop_cols, axis=1)\n",
    "        temp_X_val = X_val.drop(drop_cols, axis=1)\n",
    "        wheat_classifier.fit(temp_X_train, y_train)\n",
    "        val_pred = wheat_classifier.predict(temp_X_val)\n",
    "        precision, recall, f1score, support = score(y_val, val_pred, labels=[0,1])\n",
    "        precision_scores.append(precision)\n",
    "        \n",
    "    precision_scores = np.array(precision_scores)\n",
    "    max_must_idx = np.argmax(precision_scores, axis=0)[0]\n",
    "    max_precision_scores.append(precision_scores[max_must_idx])\n",
    "    best_params.append(param_grid[max_must_idx])\n",
    "\n",
    "    fns_used.append('-'.join(temp_X_train.columns[[0,-1]]))\n",
    "    print(len(drop_cols), 'dropped', 'completed')\n",
    "    \n",
    "    i += 1\n",
    "    \n",
    "print('Done!!')"
   ]
  },
  {
   "cell_type": "code",
   "execution_count": 17,
   "id": "e6b5b9ee",
   "metadata": {
    "canvas": {
     "comments": [],
     "componentType": "CodeCell",
     "copiedOriginId": null,
     "diskcache": false,
     "headerColor": "transparent",
     "id": "6d270eeb-f9d4-4035-9db2-628d63021248",
     "isComponent": true,
     "name": "Nov_2f Wheat-Non_wh val scores",
     "parents": [
      {
       "id": "aa90bc5b-e3bb-427f-a444-3ceed95b85d3",
       "name": "Nov_2f model training"
      }
     ]
    },
    "tags": []
   },
   "outputs": [
    {
     "data": {
      "text/plain": [
       "[array([0.98023715, 0.98983051]),\n",
       " array([0.97647059, 0.9914966 ]),\n",
       " array([0.98031496, 0.99151104]),\n",
       " array([0.97233202, 0.98644068]),\n",
       " array([0.97188755, 0.97979798]),\n",
       " array([0.97580645, 0.97983193]),\n",
       " array([0.97580645, 0.97983193]),\n",
       " array([0.96326531, 0.96989967]),\n",
       " array([0.95762712, 0.9538715 ])]"
      ]
     },
     "execution_count": 17,
     "metadata": {},
     "output_type": "execute_result"
    }
   ],
   "source": [
    "max_precision_scores"
   ]
  },
  {
   "cell_type": "code",
   "execution_count": 18,
   "id": "e7e6df66",
   "metadata": {
    "canvas": {
     "comments": [],
     "componentType": "CodeCell",
     "copiedOriginId": null,
     "diskcache": false,
     "headerColor": "transparent",
     "id": "b5b2b60b-6308-4cdf-8e69-5e51d12c4a57",
     "isComponent": true,
     "name": "Nov_2f Model Testing",
     "parents": [
      {
       "id": "6d270eeb-f9d4-4035-9db2-628d63021248",
       "name": "Nov_2f Wheat-Non_wh val scores"
      }
     ]
    },
    "scrolled": true,
    "tags": []
   },
   "outputs": [
    {
     "name": "stdout",
     "output_type": "stream",
     "text": [
      "oct_2f-apr_1f\n"
     ]
    },
    {
     "data": {
      "text/html": [
       "<div>\n",
       "<style scoped>\n",
       "    .dataframe tbody tr th:only-of-type {\n",
       "        vertical-align: middle;\n",
       "    }\n",
       "\n",
       "    .dataframe tbody tr th {\n",
       "        vertical-align: top;\n",
       "    }\n",
       "\n",
       "    .dataframe thead th {\n",
       "        text-align: right;\n",
       "    }\n",
       "</style>\n",
       "<table border=\"1\" class=\"dataframe\">\n",
       "  <thead>\n",
       "    <tr style=\"text-align: right;\">\n",
       "      <th></th>\n",
       "      <th>precision</th>\n",
       "      <th>recall</th>\n",
       "      <th>f1-score</th>\n",
       "    </tr>\n",
       "  </thead>\n",
       "  <tbody>\n",
       "    <tr>\n",
       "      <th>Mustard</th>\n",
       "      <td>0.540644</td>\n",
       "      <td>0.995763</td>\n",
       "      <td>0.700795</td>\n",
       "    </tr>\n",
       "    <tr>\n",
       "      <th>Wheat</th>\n",
       "      <td>0.999419</td>\n",
       "      <td>0.896007</td>\n",
       "      <td>0.944892</td>\n",
       "    </tr>\n",
       "  </tbody>\n",
       "</table>\n",
       "</div>"
      ],
      "text/plain": [
       "         precision    recall  f1-score\n",
       "Mustard   0.540644  0.995763  0.700795\n",
       "Wheat     0.999419  0.896007  0.944892"
      ]
     },
     "metadata": {},
     "output_type": "display_data"
    },
    {
     "name": "stdout",
     "output_type": "stream",
     "text": [
      "oct_2f-mar_2f\n"
     ]
    },
    {
     "data": {
      "text/html": [
       "<div>\n",
       "<style scoped>\n",
       "    .dataframe tbody tr th:only-of-type {\n",
       "        vertical-align: middle;\n",
       "    }\n",
       "\n",
       "    .dataframe tbody tr th {\n",
       "        vertical-align: top;\n",
       "    }\n",
       "\n",
       "    .dataframe thead th {\n",
       "        text-align: right;\n",
       "    }\n",
       "</style>\n",
       "<table border=\"1\" class=\"dataframe\">\n",
       "  <thead>\n",
       "    <tr style=\"text-align: right;\">\n",
       "      <th></th>\n",
       "      <th>precision</th>\n",
       "      <th>recall</th>\n",
       "      <th>f1-score</th>\n",
       "    </tr>\n",
       "  </thead>\n",
       "  <tbody>\n",
       "    <tr>\n",
       "      <th>Mustard</th>\n",
       "      <td>0.597623</td>\n",
       "      <td>0.994350</td>\n",
       "      <td>0.746554</td>\n",
       "    </tr>\n",
       "    <tr>\n",
       "      <th>Wheat</th>\n",
       "      <td>0.999244</td>\n",
       "      <td>0.917708</td>\n",
       "      <td>0.956742</td>\n",
       "    </tr>\n",
       "  </tbody>\n",
       "</table>\n",
       "</div>"
      ],
      "text/plain": [
       "         precision    recall  f1-score\n",
       "Mustard   0.597623  0.994350  0.746554\n",
       "Wheat     0.999244  0.917708  0.956742"
      ]
     },
     "metadata": {},
     "output_type": "display_data"
    },
    {
     "name": "stdout",
     "output_type": "stream",
     "text": [
      "oct_2f-mar_1f\n"
     ]
    },
    {
     "data": {
      "text/html": [
       "<div>\n",
       "<style scoped>\n",
       "    .dataframe tbody tr th:only-of-type {\n",
       "        vertical-align: middle;\n",
       "    }\n",
       "\n",
       "    .dataframe tbody tr th {\n",
       "        vertical-align: top;\n",
       "    }\n",
       "\n",
       "    .dataframe thead th {\n",
       "        text-align: right;\n",
       "    }\n",
       "</style>\n",
       "<table border=\"1\" class=\"dataframe\">\n",
       "  <thead>\n",
       "    <tr style=\"text-align: right;\">\n",
       "      <th></th>\n",
       "      <th>precision</th>\n",
       "      <th>recall</th>\n",
       "      <th>f1-score</th>\n",
       "    </tr>\n",
       "  </thead>\n",
       "  <tbody>\n",
       "    <tr>\n",
       "      <th>Mustard</th>\n",
       "      <td>0.615048</td>\n",
       "      <td>0.992938</td>\n",
       "      <td>0.759589</td>\n",
       "    </tr>\n",
       "    <tr>\n",
       "      <th>Wheat</th>\n",
       "      <td>0.999061</td>\n",
       "      <td>0.923611</td>\n",
       "      <td>0.959856</td>\n",
       "    </tr>\n",
       "  </tbody>\n",
       "</table>\n",
       "</div>"
      ],
      "text/plain": [
       "         precision    recall  f1-score\n",
       "Mustard   0.615048  0.992938  0.759589\n",
       "Wheat     0.999061  0.923611  0.959856"
      ]
     },
     "metadata": {},
     "output_type": "display_data"
    },
    {
     "name": "stdout",
     "output_type": "stream",
     "text": [
      "oct_2f-feb_2f\n"
     ]
    },
    {
     "data": {
      "text/html": [
       "<div>\n",
       "<style scoped>\n",
       "    .dataframe tbody tr th:only-of-type {\n",
       "        vertical-align: middle;\n",
       "    }\n",
       "\n",
       "    .dataframe tbody tr th {\n",
       "        vertical-align: top;\n",
       "    }\n",
       "\n",
       "    .dataframe thead th {\n",
       "        text-align: right;\n",
       "    }\n",
       "</style>\n",
       "<table border=\"1\" class=\"dataframe\">\n",
       "  <thead>\n",
       "    <tr style=\"text-align: right;\">\n",
       "      <th></th>\n",
       "      <th>precision</th>\n",
       "      <th>recall</th>\n",
       "      <th>f1-score</th>\n",
       "    </tr>\n",
       "  </thead>\n",
       "  <tbody>\n",
       "    <tr>\n",
       "      <th>Mustard</th>\n",
       "      <td>0.750533</td>\n",
       "      <td>0.994350</td>\n",
       "      <td>0.855407</td>\n",
       "    </tr>\n",
       "    <tr>\n",
       "      <th>Wheat</th>\n",
       "      <td>0.999277</td>\n",
       "      <td>0.959375</td>\n",
       "      <td>0.978919</td>\n",
       "    </tr>\n",
       "  </tbody>\n",
       "</table>\n",
       "</div>"
      ],
      "text/plain": [
       "         precision    recall  f1-score\n",
       "Mustard   0.750533  0.994350  0.855407\n",
       "Wheat     0.999277  0.959375  0.978919"
      ]
     },
     "metadata": {},
     "output_type": "display_data"
    },
    {
     "name": "stdout",
     "output_type": "stream",
     "text": [
      "oct_2f-feb_1f\n"
     ]
    },
    {
     "data": {
      "text/html": [
       "<div>\n",
       "<style scoped>\n",
       "    .dataframe tbody tr th:only-of-type {\n",
       "        vertical-align: middle;\n",
       "    }\n",
       "\n",
       "    .dataframe tbody tr th {\n",
       "        vertical-align: top;\n",
       "    }\n",
       "\n",
       "    .dataframe thead th {\n",
       "        text-align: right;\n",
       "    }\n",
       "</style>\n",
       "<table border=\"1\" class=\"dataframe\">\n",
       "  <thead>\n",
       "    <tr style=\"text-align: right;\">\n",
       "      <th></th>\n",
       "      <th>precision</th>\n",
       "      <th>recall</th>\n",
       "      <th>f1-score</th>\n",
       "    </tr>\n",
       "  </thead>\n",
       "  <tbody>\n",
       "    <tr>\n",
       "      <th>Mustard</th>\n",
       "      <td>0.875312</td>\n",
       "      <td>0.991525</td>\n",
       "      <td>0.929801</td>\n",
       "    </tr>\n",
       "    <tr>\n",
       "      <th>Wheat</th>\n",
       "      <td>0.998941</td>\n",
       "      <td>0.982639</td>\n",
       "      <td>0.990723</td>\n",
       "    </tr>\n",
       "  </tbody>\n",
       "</table>\n",
       "</div>"
      ],
      "text/plain": [
       "         precision    recall  f1-score\n",
       "Mustard   0.875312  0.991525  0.929801\n",
       "Wheat     0.998941  0.982639  0.990723"
      ]
     },
     "metadata": {},
     "output_type": "display_data"
    },
    {
     "name": "stdout",
     "output_type": "stream",
     "text": [
      "oct_2f-jan_2f\n"
     ]
    },
    {
     "data": {
      "text/html": [
       "<div>\n",
       "<style scoped>\n",
       "    .dataframe tbody tr th:only-of-type {\n",
       "        vertical-align: middle;\n",
       "    }\n",
       "\n",
       "    .dataframe tbody tr th {\n",
       "        vertical-align: top;\n",
       "    }\n",
       "\n",
       "    .dataframe thead th {\n",
       "        text-align: right;\n",
       "    }\n",
       "</style>\n",
       "<table border=\"1\" class=\"dataframe\">\n",
       "  <thead>\n",
       "    <tr style=\"text-align: right;\">\n",
       "      <th></th>\n",
       "      <th>precision</th>\n",
       "      <th>recall</th>\n",
       "      <th>f1-score</th>\n",
       "    </tr>\n",
       "  </thead>\n",
       "  <tbody>\n",
       "    <tr>\n",
       "      <th>Mustard</th>\n",
       "      <td>0.856622</td>\n",
       "      <td>0.995763</td>\n",
       "      <td>0.920967</td>\n",
       "    </tr>\n",
       "    <tr>\n",
       "      <th>Wheat</th>\n",
       "      <td>0.999469</td>\n",
       "      <td>0.979514</td>\n",
       "      <td>0.989391</td>\n",
       "    </tr>\n",
       "  </tbody>\n",
       "</table>\n",
       "</div>"
      ],
      "text/plain": [
       "         precision    recall  f1-score\n",
       "Mustard   0.856622  0.995763  0.920967\n",
       "Wheat     0.999469  0.979514  0.989391"
      ]
     },
     "metadata": {},
     "output_type": "display_data"
    },
    {
     "name": "stdout",
     "output_type": "stream",
     "text": [
      "oct_2f-jan_1f\n"
     ]
    },
    {
     "data": {
      "text/html": [
       "<div>\n",
       "<style scoped>\n",
       "    .dataframe tbody tr th:only-of-type {\n",
       "        vertical-align: middle;\n",
       "    }\n",
       "\n",
       "    .dataframe tbody tr th {\n",
       "        vertical-align: top;\n",
       "    }\n",
       "\n",
       "    .dataframe thead th {\n",
       "        text-align: right;\n",
       "    }\n",
       "</style>\n",
       "<table border=\"1\" class=\"dataframe\">\n",
       "  <thead>\n",
       "    <tr style=\"text-align: right;\">\n",
       "      <th></th>\n",
       "      <th>precision</th>\n",
       "      <th>recall</th>\n",
       "      <th>f1-score</th>\n",
       "    </tr>\n",
       "  </thead>\n",
       "  <tbody>\n",
       "    <tr>\n",
       "      <th>Mustard</th>\n",
       "      <td>0.801596</td>\n",
       "      <td>0.992938</td>\n",
       "      <td>0.887066</td>\n",
       "    </tr>\n",
       "    <tr>\n",
       "      <th>Wheat</th>\n",
       "      <td>0.999106</td>\n",
       "      <td>0.969792</td>\n",
       "      <td>0.984230</td>\n",
       "    </tr>\n",
       "  </tbody>\n",
       "</table>\n",
       "</div>"
      ],
      "text/plain": [
       "         precision    recall  f1-score\n",
       "Mustard   0.801596  0.992938  0.887066\n",
       "Wheat     0.999106  0.969792  0.984230"
      ]
     },
     "metadata": {},
     "output_type": "display_data"
    },
    {
     "name": "stdout",
     "output_type": "stream",
     "text": [
      "oct_2f-dec_2f\n"
     ]
    },
    {
     "data": {
      "text/html": [
       "<div>\n",
       "<style scoped>\n",
       "    .dataframe tbody tr th:only-of-type {\n",
       "        vertical-align: middle;\n",
       "    }\n",
       "\n",
       "    .dataframe tbody tr th {\n",
       "        vertical-align: top;\n",
       "    }\n",
       "\n",
       "    .dataframe thead th {\n",
       "        text-align: right;\n",
       "    }\n",
       "</style>\n",
       "<table border=\"1\" class=\"dataframe\">\n",
       "  <thead>\n",
       "    <tr style=\"text-align: right;\">\n",
       "      <th></th>\n",
       "      <th>precision</th>\n",
       "      <th>recall</th>\n",
       "      <th>f1-score</th>\n",
       "    </tr>\n",
       "  </thead>\n",
       "  <tbody>\n",
       "    <tr>\n",
       "      <th>Mustard</th>\n",
       "      <td>0.620141</td>\n",
       "      <td>0.991525</td>\n",
       "      <td>0.763043</td>\n",
       "    </tr>\n",
       "    <tr>\n",
       "      <th>Wheat</th>\n",
       "      <td>0.998876</td>\n",
       "      <td>0.925347</td>\n",
       "      <td>0.960707</td>\n",
       "    </tr>\n",
       "  </tbody>\n",
       "</table>\n",
       "</div>"
      ],
      "text/plain": [
       "         precision    recall  f1-score\n",
       "Mustard   0.620141  0.991525  0.763043\n",
       "Wheat     0.998876  0.925347  0.960707"
      ]
     },
     "metadata": {},
     "output_type": "display_data"
    },
    {
     "name": "stdout",
     "output_type": "stream",
     "text": [
      "oct_2f-dec_1f\n"
     ]
    },
    {
     "data": {
      "text/html": [
       "<div>\n",
       "<style scoped>\n",
       "    .dataframe tbody tr th:only-of-type {\n",
       "        vertical-align: middle;\n",
       "    }\n",
       "\n",
       "    .dataframe tbody tr th {\n",
       "        vertical-align: top;\n",
       "    }\n",
       "\n",
       "    .dataframe thead th {\n",
       "        text-align: right;\n",
       "    }\n",
       "</style>\n",
       "<table border=\"1\" class=\"dataframe\">\n",
       "  <thead>\n",
       "    <tr style=\"text-align: right;\">\n",
       "      <th></th>\n",
       "      <th>precision</th>\n",
       "      <th>recall</th>\n",
       "      <th>f1-score</th>\n",
       "    </tr>\n",
       "  </thead>\n",
       "  <tbody>\n",
       "    <tr>\n",
       "      <th>Mustard</th>\n",
       "      <td>0.464883</td>\n",
       "      <td>0.981638</td>\n",
       "      <td>0.630958</td>\n",
       "    </tr>\n",
       "    <tr>\n",
       "      <th>Wheat</th>\n",
       "      <td>0.997386</td>\n",
       "      <td>0.861111</td>\n",
       "      <td>0.924252</td>\n",
       "    </tr>\n",
       "  </tbody>\n",
       "</table>\n",
       "</div>"
      ],
      "text/plain": [
       "         precision    recall  f1-score\n",
       "Mustard   0.464883  0.981638  0.630958\n",
       "Wheat     0.997386  0.861111  0.924252"
      ]
     },
     "metadata": {},
     "output_type": "display_data"
    }
   ],
   "source": [
    "test_reports = []\n",
    "test_precision_scores = []\n",
    "confusion_matrices = []\n",
    "test_dfs = []\n",
    "best_models = []\n",
    "\n",
    "for i in range(len(fns_used)):\n",
    "    best_classifier = XGBClassifier(**best_params[i])\n",
    "    \n",
    "    strt_fn, end_fn = fns_used[i].split('-')\n",
    "    temp_X_train = X_train.loc[:, strt_fn:end_fn]\n",
    "    temp_X_test = X_test.loc[:, strt_fn:end_fn]\n",
    "    best_classifier.fit(temp_X_train, y_train)\n",
    "    best_models.append(best_classifier)\n",
    "#     pickle.dump(best_classifier, open(r'models/XGB_Binary_sowing-nov1f_{}_1.1'.format('-'.join(temp_X_train.columns[[0,-1]])), 'wb'))\n",
    "    test_pred = best_classifier.predict(temp_X_test)\n",
    "    report = classification_report(y_test, test_pred, target_names=['Mustard', 'Wheat'], output_dict=True)\n",
    "    df = pd.DataFrame(report).transpose().loc[:'Wheat',:'f1-score']\n",
    "    test_reports.append(df)\n",
    "    test_precision_scores.append(df['precision'].values)\n",
    "    print(fns_used[i])\n",
    "    display(test_reports[i])\n",
    "    # cf = pd.crosstab(y_test, pd.Series(test_pred, name='pred')).rename({0:'Non_wheat', 1:'Wheat'}).rename({0:'Non_wheat', 1:'Wheat'}, axis=1)\n",
    "    # confusion_matrices.append(cf)\n",
    "    # df1 = pd.DataFrame(data = {'GT':confusion_matrices[-1].sum(axis=1),\n",
    "    #                                 'correct_pred':np.diag(confusion_matrices[-1])})\n",
    "    # df1['correct_pred(%)'] = round(df1['correct_pred']/df1['GT']*100, 2)\n",
    "    # temp_df = deepcopy(confusion_matrices[-1])\n",
    "    # np.fill_diagonal(temp_df.values, 0)\n",
    "    # temp_df.columns = ['incorr_pred_must', 'incorrect_pred_wh']\n",
    "    # df1 = pd.concat([df1, temp_df], axis=1)\n",
    "    # test_dfs.append(df1)"
   ]
  },
  {
   "cell_type": "code",
   "execution_count": 22,
   "id": "9b207906-c5c9-4819-b42a-9a1fa913a07b",
   "metadata": {},
   "outputs": [
    {
     "data": {
      "text/html": [
       "<div>\n",
       "<style scoped>\n",
       "    .dataframe tbody tr th:only-of-type {\n",
       "        vertical-align: middle;\n",
       "    }\n",
       "\n",
       "    .dataframe tbody tr th {\n",
       "        vertical-align: top;\n",
       "    }\n",
       "\n",
       "    .dataframe thead th {\n",
       "        text-align: right;\n",
       "    }\n",
       "</style>\n",
       "<table border=\"1\" class=\"dataframe\">\n",
       "  <thead>\n",
       "    <tr style=\"text-align: right;\">\n",
       "      <th></th>\n",
       "      <th>precision</th>\n",
       "      <th>recall</th>\n",
       "      <th>f1-score</th>\n",
       "    </tr>\n",
       "  </thead>\n",
       "  <tbody>\n",
       "    <tr>\n",
       "      <th>Mustard</th>\n",
       "      <td>0.875312</td>\n",
       "      <td>0.991525</td>\n",
       "      <td>0.929801</td>\n",
       "    </tr>\n",
       "    <tr>\n",
       "      <th>Wheat</th>\n",
       "      <td>0.998941</td>\n",
       "      <td>0.982639</td>\n",
       "      <td>0.990723</td>\n",
       "    </tr>\n",
       "  </tbody>\n",
       "</table>\n",
       "</div>"
      ],
      "text/plain": [
       "         precision    recall  f1-score\n",
       "Mustard   0.875312  0.991525  0.929801\n",
       "Wheat     0.998941  0.982639  0.990723"
      ]
     },
     "metadata": {},
     "output_type": "display_data"
    }
   ],
   "source": [
    "display(test_reports[4]) # best score\n",
    "\n",
    "pickle.dump(best_models[4], open(r'models/wheat_vs_mustard.pkl', 'wb')) # best model pickling"
   ]
  },
  {
   "cell_type": "code",
   "execution_count": 34,
   "id": "682bfc6e",
   "metadata": {
    "canvas": {
     "comments": [],
     "componentType": "CodeCell",
     "copiedOriginId": null,
     "diskcache": false,
     "headerColor": "transparent",
     "id": "4781ec87-1fdf-4bb2-a895-13e3d15c9f94",
     "isComponent": true,
     "name": "Nov_1f Test Recall plots",
     "parents": [
      {
       "id": "b5b2b60b-6308-4cdf-8e69-5e51d12c4a57",
       "name": "Nov_2f Model Testing"
      }
     ]
    },
    "tags": []
   },
   "outputs": [
    {
     "data": {
      "image/png": "[encoded data removed]",
      "text/plain": [
       "<Figure size 640x480 with 1 Axes>"
      ]
     },
     "metadata": {},
     "output_type": "display_data"
    }
   ],
   "source": [
    "sns.lineplot(y=np.array(test_precision_scores)[:,0], x=fns_used, label='precision_min_class (Mustard)', marker=\"o\")\n",
    "sns.lineplot(y=np.array(test_precision_scores)[:,1], x=fns_used, label='precision_maj_class (Wheat)', marker=\"o\")\n",
    "plt.xlabel('Fns Used')\n",
    "plt.ylabel('precision Scores')\n",
    "plt.xticks(rotation='vertical')\n",
    "plt.title('Wheat vs Mustard')\n",
    "plt.ylim([0.5,1.2])\n",
    "plt.grid()\n",
    "plt.show()"
   ]
  },
  {
   "cell_type": "code",
   "execution_count": 35,
   "id": "fd737253",
   "metadata": {
    "canvas": {
     "comments": [],
     "componentType": "CodeCell",
     "copiedOriginId": null,
     "diskcache": false,
     "headerColor": "transparent",
     "id": "f85e38e7-1e0b-44e9-8f18-6a8043f34c30",
     "isComponent": true,
     "name": "Nov_1f Test CF_matrix",
     "parents": [
      {
       "id": "4781ec87-1fdf-4bb2-a895-13e3d15c9f94",
       "name": "Nov_1f Test Recall plots"
      }
     ]
    },
    "tags": []
   },
   "outputs": [
    {
     "data": {
      "text/plain": [
       "<Figure size 1500x3000 with 0 Axes>"
      ]
     },
     "metadata": {},
     "output_type": "display_data"
    }
   ],
   "source": [
    "plt.figure(figsize=(15,30))\n",
    "\n",
    "for i in range(len(confusion_matrices)):\n",
    "    plt.subplot(5,2,i+1)\n",
    "    sns.heatmap(confusion_matrices[i], annot=True, cmap='Blues', fmt='g')\n",
    "    plt.xlabel('Predicted Class')\n",
    "    plt.ylabel('Actual Class/GT')\n",
    "    plt.title(f'Fns Used: [{fns_used[i]}]')\n",
    "plt.show()"
   ]
  },
  {
   "cell_type": "markdown",
   "id": "55b343fa-979f-4033-966f-74658095c457",
   "metadata": {
    "canvas": {
     "comments": [],
     "componentType": "CodeCell",
     "copiedOriginId": null,
     "diskcache": false,
     "headerColor": "transparent",
     "id": "28bf8c07-4ea1-47ad-a141-6ea7703137d9",
     "isComponent": false,
     "name": "",
     "parents": []
    }
   },
   "source": [
    "# Conformal Predictions on unlabelled dataset using the best model"
   ]
  },
  {
   "cell_type": "code",
   "execution_count": 36,
   "id": "f7692f72-9935-4748-b329-84e862a59f76",
   "metadata": {
    "scrolled": true
   },
   "outputs": [
    {
     "name": "stdout",
     "output_type": "stream",
     "text": [
      "fns_used: oct_2f-feb_1f\n"
     ]
    },
    {
     "data": {
      "text/html": [
       "<style>#sk-container-id-2 {color: black;}#sk-container-id-2 pre{padding: 0;}#sk-container-id-2 div.sk-toggleable {background-color: white;}#sk-container-id-2 label.sk-toggleable__label {cursor: pointer;display: block;width: 100%;margin-bottom: 0;padding: 0.3em;box-sizing: border-box;text-align: center;}#sk-container-id-2 label.sk-toggleable__label-arrow:before {content: \"▸\";float: left;margin-right: 0.25em;color: #696969;}#sk-container-id-2 label.sk-toggleable__label-arrow:hover:before {color: black;}#sk-container-id-2 div.sk-estimator:hover label.sk-toggleable__label-arrow:before {color: black;}#sk-container-id-2 div.sk-toggleable__content {max-height: 0;max-width: 0;overflow: hidden;text-align: left;background-color: #f0f8ff;}#sk-container-id-2 div.sk-toggleable__content pre {margin: 0.2em;color: black;border-radius: 0.25em;background-color: #f0f8ff;}#sk-container-id-2 input.sk-toggleable__control:checked~div.sk-toggleable__content {max-height: 200px;max-width: 100%;overflow: auto;}#sk-container-id-2 input.sk-toggleable__control:checked~label.sk-toggleable__label-arrow:before {content: \"▾\";}#sk-container-id-2 div.sk-estimator input.sk-toggleable__control:checked~label.sk-toggleable__label {background-color: #d4ebff;}#sk-container-id-2 div.sk-label input.sk-toggleable__control:checked~label.sk-toggleable__label {background-color: #d4ebff;}#sk-container-id-2 input.sk-hidden--visually {border: 0;clip: rect(1px 1px 1px 1px);clip: rect(1px, 1px, 1px, 1px);height: 1px;margin: -1px;overflow: hidden;padding: 0;position: absolute;width: 1px;}#sk-container-id-2 div.sk-estimator {font-family: monospace;background-color: #f0f8ff;border: 1px dotted black;border-radius: 0.25em;box-sizing: border-box;margin-bottom: 0.5em;}#sk-container-id-2 div.sk-estimator:hover {background-color: #d4ebff;}#sk-container-id-2 div.sk-parallel-item::after {content: \"\";width: 100%;border-bottom: 1px solid gray;flex-grow: 1;}#sk-container-id-2 div.sk-label:hover label.sk-toggleable__label {background-color: #d4ebff;}#sk-container-id-2 div.sk-serial::before {content: \"\";position: absolute;border-left: 1px solid gray;box-sizing: border-box;top: 0;bottom: 0;left: 50%;z-index: 0;}#sk-container-id-2 div.sk-serial {display: flex;flex-direction: column;align-items: center;background-color: white;padding-right: 0.2em;padding-left: 0.2em;position: relative;}#sk-container-id-2 div.sk-item {position: relative;z-index: 1;}#sk-container-id-2 div.sk-parallel {display: flex;align-items: stretch;justify-content: center;background-color: white;position: relative;}#sk-container-id-2 div.sk-item::before, #sk-container-id-2 div.sk-parallel-item::before {content: \"\";position: absolute;border-left: 1px solid gray;box-sizing: border-box;top: 0;bottom: 0;left: 50%;z-index: -1;}#sk-container-id-2 div.sk-parallel-item {display: flex;flex-direction: column;z-index: 1;position: relative;background-color: white;}#sk-container-id-2 div.sk-parallel-item:first-child::after {align-self: flex-end;width: 50%;}#sk-container-id-2 div.sk-parallel-item:last-child::after {align-self: flex-start;width: 50%;}#sk-container-id-2 div.sk-parallel-item:only-child::after {width: 0;}#sk-container-id-2 div.sk-dashed-wrapped {border: 1px dashed gray;margin: 0 0.4em 0.5em 0.4em;box-sizing: border-box;padding-bottom: 0.4em;background-color: white;}#sk-container-id-2 div.sk-label label {font-family: monospace;font-weight: bold;display: inline-block;line-height: 1.2em;}#sk-container-id-2 div.sk-label-container {text-align: center;}#sk-container-id-2 div.sk-container {/* jupyter's `normalize.less` sets `[hidden] { display: none; }` but bootstrap.min.css set `[hidden] { display: none !important; }` so we also need the `!important` here to be able to override the default hidden behavior on the sphinx rendered scikit-learn.org. See: https://github.com/scikit-learn/scikit-learn/issues/21755 */display: inline-block !important;position: relative;}#sk-container-id-2 div.sk-text-repr-fallback {display: none;}</style><div id=\"sk-container-id-2\" class=\"sk-top-container\"><div class=\"sk-text-repr-fallback\"><pre>XGBClassifier(base_score=None, booster=None, callbacks=None,\n",
       "              colsample_bylevel=None, colsample_bynode=None,\n",
       "              colsample_bytree=None, early_stopping_rounds=None,\n",
       "              enable_categorical=False, eval_metric=None, feature_types=None,\n",
       "              gamma=None, gpu_id=None, grow_policy=None, importance_type=None,\n",
       "              interaction_constraints=None, learning_rate=0.4, max_bin=None,\n",
       "              max_cat_threshold=None, max_cat_to_onehot=None,\n",
       "              max_delta_step=None, max_depth=3, max_leaves=None,\n",
       "              min_child_weight=None, missing=nan, monotone_constraints=None,\n",
       "              n_estimators=20, n_jobs=None, num_parallel_tree=None,\n",
       "              predictor=None, random_state=None, ...)</pre><b>In a Jupyter environment, please rerun this cell to show the HTML representation or trust the notebook. <br />On GitHub, the HTML representation is unable to render, please try loading this page with nbviewer.org.</b></div><div class=\"sk-container\" hidden><div class=\"sk-item\"><div class=\"sk-estimator sk-toggleable\"><input class=\"sk-toggleable__control sk-hidden--visually\" id=\"sk-estimator-id-2\" type=\"checkbox\" checked><label for=\"sk-estimator-id-2\" class=\"sk-toggleable__label sk-toggleable__label-arrow\">XGBClassifier</label><div class=\"sk-toggleable__content\"><pre>XGBClassifier(base_score=None, booster=None, callbacks=None,\n",
       "              colsample_bylevel=None, colsample_bynode=None,\n",
       "              colsample_bytree=None, early_stopping_rounds=None,\n",
       "              enable_categorical=False, eval_metric=None, feature_types=None,\n",
       "              gamma=None, gpu_id=None, grow_policy=None, importance_type=None,\n",
       "              interaction_constraints=None, learning_rate=0.4, max_bin=None,\n",
       "              max_cat_threshold=None, max_cat_to_onehot=None,\n",
       "              max_delta_step=None, max_depth=3, max_leaves=None,\n",
       "              min_child_weight=None, missing=nan, monotone_constraints=None,\n",
       "              n_estimators=20, n_jobs=None, num_parallel_tree=None,\n",
       "              predictor=None, random_state=None, ...)</pre></div></div></div></div></div>"
      ],
      "text/plain": [
       "XGBClassifier(base_score=None, booster=None, callbacks=None,\n",
       "              colsample_bylevel=None, colsample_bynode=None,\n",
       "              colsample_bytree=None, early_stopping_rounds=None,\n",
       "              enable_categorical=False, eval_metric=None, feature_types=None,\n",
       "              gamma=None, gpu_id=None, grow_policy=None, importance_type=None,\n",
       "              interaction_constraints=None, learning_rate=0.4, max_bin=None,\n",
       "              max_cat_threshold=None, max_cat_to_onehot=None,\n",
       "              max_delta_step=None, max_depth=3, max_leaves=None,\n",
       "              min_child_weight=None, missing=nan, monotone_constraints=None,\n",
       "              n_estimators=20, n_jobs=None, num_parallel_tree=None,\n",
       "              predictor=None, random_state=None, ...)"
      ]
     },
     "metadata": {},
     "output_type": "display_data"
    }
   ],
   "source": [
    "# Will be using the best model to get set predictions\n",
    "print('fns_used:', fns_used[4])\n",
    "display(best_models[4])"
   ]
  },
  {
   "cell_type": "code",
   "execution_count": 37,
   "id": "39d01194-faea-44d7-acd2-56565cda6ff9",
   "metadata": {
    "canvas": {
     "comments": [],
     "componentType": "CodeCell",
     "copiedOriginId": null,
     "diskcache": false,
     "headerColor": "transparent",
     "id": "cfbac09b-b416-4ddf-9917-2ff811f48e42",
     "isComponent": false,
     "name": "",
     "parents": []
    }
   },
   "outputs": [],
   "source": [
    "best_model_dict = {}\n",
    "\n",
    "for i in range(len(fns_used)):\n",
    "    best_model_dict[fns_used[i]] = best_models[i]"
   ]
  },
  {
   "cell_type": "code",
   "execution_count": 38,
   "id": "9e722c2a-3246-4433-bb45-482242824abf",
   "metadata": {
    "canvas": {
     "comments": [],
     "componentType": "CodeCell",
     "copiedOriginId": null,
     "diskcache": false,
     "headerColor": "transparent",
     "id": "6f907906-c2c3-4693-aa97-03a0bccd0cd8",
     "isComponent": false,
     "name": "",
     "parents": []
    }
   },
   "outputs": [],
   "source": [
    "unlabelled = pd.read_csv(r'data_files/data_share/cleaned_others.csv')\n",
    "\n",
    "unlabelled.head(3)\n",
    "\n",
    "# Scaling\n",
    "scaled_unlabelled = pd.DataFrame(data = scaler.transform(unlabelled), columns = unlabelled.columns)"
   ]
  },
  {
   "cell_type": "code",
   "execution_count": 39,
   "id": "98214c95-6f8c-4c59-8854-2b2b01c98d8a",
   "metadata": {
    "canvas": {
     "comments": [],
     "componentType": "CodeCell",
     "copiedOriginId": null,
     "diskcache": false,
     "headerColor": "transparent",
     "id": "83258b6c-7736-4e8b-889a-612e9d1c259e",
     "isComponent": false,
     "name": "",
     "parents": []
    }
   },
   "outputs": [
    {
     "data": {
      "text/plain": [
       "pred\n",
       "1      5136\n",
       "0      3943\n",
       "NaN    3842\n",
       "Name: count, dtype: int64"
      ]
     },
     "execution_count": 39,
     "metadata": {},
     "output_type": "execute_result"
    }
   ],
   "source": [
    "# our best_model was built with NDVI bands from oct_2f to feb_1f\n",
    "strt_fn, end_fn = 'oct_2f', 'feb_1f'\n",
    "alpha = 0.05\n",
    "\n",
    "estimator = best_model_dict[strt_fn+'-'+end_fn]\n",
    "\n",
    "temp_unlabelled = scaled_unlabelled.loc[:,strt_fn:end_fn]\n",
    "temp_X_val = X_val.loc[:,strt_fn:end_fn]\n",
    "\n",
    "cp = _conformal_prediction(estimator)\n",
    "cp.fit(temp_X_val, y_val, alpha)\n",
    "\n",
    "pred_prob, set_pred = cp.predict(temp_unlabelled)\n",
    "\n",
    "unlabelled['max_prob'] = np.max(pred_prob, axis=1)\n",
    "unlabelled['pred'] = set_pred\n",
    "# unlabelled['labels'] = np.argmax(pred_prob, axis=1)\n",
    "\n",
    "unlabelled.pred.value_counts(dropna=False)"
   ]
  },
  {
   "cell_type": "code",
   "execution_count": null,
   "id": "c60ac8f8-d9f7-4679-a795-584ad5804fd6",
   "metadata": {},
   "outputs": [],
   "source": []
  }
 ],
 "metadata": {
  "canvas": {
   "colorPalette": [
    "inherit",
    "inherit",
    "inherit",
    "inherit",
    "inherit",
    "inherit",
    "inherit",
    "inherit",
    "inherit",
    "inherit"
   ],
   "parameters": [],
   "version": "1.0"
  },
  "kernelspec": {
   "display_name": "Python 3 (ipykernel)",
   "language": "python",
   "name": "python3"
  },
  "language_info": {
   "codemirror_mode": {
    "name": "ipython",
    "version": 3
   },
   "file_extension": ".py",
   "mimetype": "text/x-python",
   "name": "python",
   "nbconvert_exporter": "python",
   "pygments_lexer": "ipython3",
   "version": "3.9.16"
  },
  "toc-autonumbering": true
 },
 "nbformat": 4,
 "nbformat_minor": 5
}
