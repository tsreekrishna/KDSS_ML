{
 "cells": [
  {
   "cell_type": "markdown",
   "id": "c7d5b5f8",
   "metadata": {
    "canvas": {
     "comments": [],
     "componentType": "CodeCell",
     "copiedOriginId": null,
     "diskcache": false,
     "headerColor": "transparent",
     "id": "dfde6b64-23dd-4c2f-aafa-b8c646702485",
     "isComponent": false,
     "name": "",
     "parents": []
    },
    "tags": []
   },
   "source": [
    "> In this notebook, wheat data is undersampled such that ratio of wheat/mustard is atleast 70:30. Train_val split and undersampling is performed by keeping the crop_name, sowing and harvest period combinations constant across the datasets (Stratification). "
   ]
  },
  {
   "cell_type": "markdown",
   "id": "f3b22f36",
   "metadata": {
    "canvas": {
     "comments": [],
     "componentType": "CodeCell",
     "copiedOriginId": null,
     "diskcache": false,
     "headerColor": "transparent",
     "id": "4cd59658-0061-4060-8975-14a37233ba04",
     "isComponent": false,
     "name": "",
     "parents": []
    }
   },
   "source": [
    "# Import Modules and Data"
   ]
  },
  {
   "cell_type": "code",
   "execution_count": 9,
   "id": "d63d60b6",
   "metadata": {
    "canvas": {
     "comments": [],
     "componentType": "CodeCell",
     "copiedOriginId": null,
     "diskcache": false,
     "headerColor": "transparent",
     "id": "b7172a0f-3d9f-4ccb-ab01-0270c41aaa08",
     "isComponent": false,
     "name": "",
     "parents": []
    }
   },
   "outputs": [],
   "source": [
    "from glob import glob\n",
    "import geopandas as gp\n",
    "import numpy as np\n",
    "import pandas as pd\n",
    "from copy import deepcopy\n",
    "import seaborn as sns\n",
    "import matplotlib.pyplot as plt\n",
    "from sklearn.model_selection import train_test_split\n",
    "from IPython.display import display\n",
    "import random\n",
    "import os\n",
    "\n",
    "pd.options.display.max_rows = 100\n",
    "\n",
    "import warnings\n",
    "warnings.filterwarnings(\"ignore\")\n",
    "\n",
    "try:\n",
    "    if kernel_is_loaded:\n",
    "        pass\n",
    "except:\n",
    "    os.chdir('/'.join(os.getcwd().split('/')[:-1]))\n",
    "    kernel_is_loaded = True"
   ]
  },
  {
   "cell_type": "code",
   "execution_count": 10,
   "id": "a0bcdd8e",
   "metadata": {
    "canvas": {
     "comments": [],
     "componentType": "CodeCell",
     "copiedOriginId": null,
     "diskcache": false,
     "headerColor": "transparent",
     "id": "81e49a53-cf5b-4de4-9e62-ebdbe7c708fd",
     "isComponent": false,
     "name": "",
     "parents": []
    }
   },
   "outputs": [],
   "source": [
    "# Importing all the required files\n",
    "wheat_train_val = pd.read_csv(r'data_files/data_share/preprocessed_wheat.csv')\n",
    "mustard_train_val = pd.read_csv(r'data_files/data_share/preprocessed_mustard.csv')\n",
    "\n",
    "wheat_test = pd.read_csv(r'data_files/data_share/preprocessed_new_wheat.csv')\n",
    "mustard_test = pd.read_csv(r'data_files/data_share/preprocessed_new_mustard.csv')\n",
    "\n",
    "# Dropping the unnecessary features as of now\n",
    "wheat_train_val = wheat_train_val.drop(['latitude', 'longitude', 'state_name', 'district', 'taluka_name', 'sowing_year', 'harvest_year'], axis=1)\n",
    "mustard_train_val = mustard_train_val.drop(['latitude', 'longitude', 'state_name', 'district', 'taluka_name', 'sowing_year', 'harvest_year'], axis=1)\n",
    "mustard_test = mustard_test.drop(['latitude', 'longitude', 'state_name', 'district', 'taluka_name', 'sowing_year', 'harvest_year'], axis=1)\n",
    "wheat_test = wheat_test.drop(['latitude', 'longitude', 'state_name', 'district', 'taluka_name', 'sowing_year', 'harvest_year'], axis=1)"
   ]
  },
  {
   "cell_type": "markdown",
   "id": "e6274114",
   "metadata": {
    "canvas": {
     "comments": [],
     "componentType": "CodeCell",
     "copiedOriginId": null,
     "diskcache": false,
     "headerColor": "transparent",
     "id": "f5555168-9c53-4127-b49d-44011f0bb852",
     "isComponent": false,
     "name": "",
     "parents": []
    }
   },
   "source": [
    "# Undersampling - (70:30)"
   ]
  },
  {
   "cell_type": "code",
   "execution_count": 11,
   "id": "73f735e3",
   "metadata": {
    "canvas": {
     "comments": [],
     "componentType": "CodeCell",
     "copiedOriginId": null,
     "diskcache": false,
     "headerColor": "transparent",
     "id": "d3f7203e-e451-4599-9f74-f9181d6851fb",
     "isComponent": false,
     "name": "",
     "parents": []
    }
   },
   "outputs": [
    {
     "data": {
      "text/html": [
       "<div>\n",
       "<style scoped>\n",
       "    .dataframe tbody tr th:only-of-type {\n",
       "        vertical-align: middle;\n",
       "    }\n",
       "\n",
       "    .dataframe tbody tr th {\n",
       "        vertical-align: top;\n",
       "    }\n",
       "\n",
       "    .dataframe thead th {\n",
       "        text-align: right;\n",
       "    }\n",
       "</style>\n",
       "<table border=\"1\" class=\"dataframe\">\n",
       "  <thead>\n",
       "    <tr style=\"text-align: right;\">\n",
       "      <th>harvest_period</th>\n",
       "      <th>feb_1f</th>\n",
       "      <th>feb_2f</th>\n",
       "      <th>mar_1f</th>\n",
       "      <th>mar_2f</th>\n",
       "      <th>All</th>\n",
       "    </tr>\n",
       "    <tr>\n",
       "      <th>sowing_period</th>\n",
       "      <th></th>\n",
       "      <th></th>\n",
       "      <th></th>\n",
       "      <th></th>\n",
       "      <th></th>\n",
       "    </tr>\n",
       "  </thead>\n",
       "  <tbody>\n",
       "    <tr>\n",
       "      <th>dec_1f</th>\n",
       "      <td>0</td>\n",
       "      <td>0</td>\n",
       "      <td>1987</td>\n",
       "      <td>3103</td>\n",
       "      <td>5090</td>\n",
       "    </tr>\n",
       "    <tr>\n",
       "      <th>dec_2f</th>\n",
       "      <td>0</td>\n",
       "      <td>0</td>\n",
       "      <td>19</td>\n",
       "      <td>169</td>\n",
       "      <td>188</td>\n",
       "    </tr>\n",
       "    <tr>\n",
       "      <th>nov_1f</th>\n",
       "      <td>108</td>\n",
       "      <td>1402</td>\n",
       "      <td>1925</td>\n",
       "      <td>181</td>\n",
       "      <td>3616</td>\n",
       "    </tr>\n",
       "    <tr>\n",
       "      <th>nov_2f</th>\n",
       "      <td>8</td>\n",
       "      <td>1056</td>\n",
       "      <td>4435</td>\n",
       "      <td>1750</td>\n",
       "      <td>7249</td>\n",
       "    </tr>\n",
       "    <tr>\n",
       "      <th>oct_2f</th>\n",
       "      <td>55</td>\n",
       "      <td>67</td>\n",
       "      <td>28</td>\n",
       "      <td>14</td>\n",
       "      <td>164</td>\n",
       "    </tr>\n",
       "    <tr>\n",
       "      <th>All</th>\n",
       "      <td>171</td>\n",
       "      <td>2525</td>\n",
       "      <td>8394</td>\n",
       "      <td>5217</td>\n",
       "      <td>16307</td>\n",
       "    </tr>\n",
       "  </tbody>\n",
       "</table>\n",
       "</div>"
      ],
      "text/plain": [
       "harvest_period  feb_1f  feb_2f  mar_1f  mar_2f    All\n",
       "sowing_period                                        \n",
       "dec_1f               0       0    1987    3103   5090\n",
       "dec_2f               0       0      19     169    188\n",
       "nov_1f             108    1402    1925     181   3616\n",
       "nov_2f               8    1056    4435    1750   7249\n",
       "oct_2f              55      67      28      14    164\n",
       "All                171    2525    8394    5217  16307"
      ]
     },
     "metadata": {},
     "output_type": "display_data"
    },
    {
     "data": {
      "text/html": [
       "<div>\n",
       "<style scoped>\n",
       "    .dataframe tbody tr th:only-of-type {\n",
       "        vertical-align: middle;\n",
       "    }\n",
       "\n",
       "    .dataframe tbody tr th {\n",
       "        vertical-align: top;\n",
       "    }\n",
       "\n",
       "    .dataframe thead th {\n",
       "        text-align: right;\n",
       "    }\n",
       "</style>\n",
       "<table border=\"1\" class=\"dataframe\">\n",
       "  <thead>\n",
       "    <tr style=\"text-align: right;\">\n",
       "      <th>harvest_period</th>\n",
       "      <th>feb_1f</th>\n",
       "      <th>feb_2f</th>\n",
       "      <th>jan_2f</th>\n",
       "      <th>mar_1f</th>\n",
       "      <th>mar_2f</th>\n",
       "      <th>All</th>\n",
       "    </tr>\n",
       "    <tr>\n",
       "      <th>sowing_period</th>\n",
       "      <th></th>\n",
       "      <th></th>\n",
       "      <th></th>\n",
       "      <th></th>\n",
       "      <th></th>\n",
       "      <th></th>\n",
       "    </tr>\n",
       "  </thead>\n",
       "  <tbody>\n",
       "    <tr>\n",
       "      <th>nov_1f</th>\n",
       "      <td>28</td>\n",
       "      <td>288</td>\n",
       "      <td>0</td>\n",
       "      <td>376</td>\n",
       "      <td>18</td>\n",
       "      <td>710</td>\n",
       "    </tr>\n",
       "    <tr>\n",
       "      <th>nov_2f</th>\n",
       "      <td>1</td>\n",
       "      <td>2</td>\n",
       "      <td>0</td>\n",
       "      <td>13</td>\n",
       "      <td>1</td>\n",
       "      <td>17</td>\n",
       "    </tr>\n",
       "    <tr>\n",
       "      <th>oct_2f</th>\n",
       "      <td>146</td>\n",
       "      <td>319</td>\n",
       "      <td>10</td>\n",
       "      <td>60</td>\n",
       "      <td>4</td>\n",
       "      <td>539</td>\n",
       "    </tr>\n",
       "    <tr>\n",
       "      <th>All</th>\n",
       "      <td>175</td>\n",
       "      <td>609</td>\n",
       "      <td>10</td>\n",
       "      <td>449</td>\n",
       "      <td>23</td>\n",
       "      <td>1266</td>\n",
       "    </tr>\n",
       "  </tbody>\n",
       "</table>\n",
       "</div>"
      ],
      "text/plain": [
       "harvest_period  feb_1f  feb_2f  jan_2f  mar_1f  mar_2f   All\n",
       "sowing_period                                               \n",
       "nov_1f              28     288       0     376      18   710\n",
       "nov_2f               1       2       0      13       1    17\n",
       "oct_2f             146     319      10      60       4   539\n",
       "All                175     609      10     449      23  1266"
      ]
     },
     "metadata": {},
     "output_type": "display_data"
    }
   ],
   "source": [
    "# Not using the combinations, where the count is just 1\n",
    "\n",
    "display(pd.crosstab(wheat_train_val['sowing_period'], wheat_train_val['harvest_period'], margins=True))\n",
    "display(pd.crosstab(mustard_train_val['sowing_period'], mustard_train_val['harvest_period'], margins=True))"
   ]
  },
  {
   "cell_type": "code",
   "execution_count": 12,
   "id": "a08b2b53",
   "metadata": {
    "canvas": {
     "comments": [],
     "componentType": "CodeCell",
     "copiedOriginId": null,
     "diskcache": false,
     "headerColor": "transparent",
     "id": "7e1f1a12-d03b-4f82-ae77-0135d90a154b",
     "isComponent": false,
     "name": "",
     "parents": []
    }
   },
   "outputs": [],
   "source": [
    "# Dropping combinations with value_Counts as 1\n",
    "\n",
    "# wheat_train_val = wheat_train_val[(wheat_train_val.sowing_period != 'nov_1f') | (wheat_train_val.harvest_period != 'jan_2f')]\n",
    "# wheat_train_val = wheat_train_val[(wheat_train_val.sowing_period != 'oct_2f') | (wheat_train_val.harvest_period != 'jan_2f')]                                 \n",
    "\n",
    "mustard_train_val = mustard_train_val[(mustard_train_val.sowing_period != 'nov_2f') | (mustard_train_val.harvest_period != 'mar_2f')]\n",
    "mustard_train_val = mustard_train_val[(mustard_train_val.sowing_period != 'nov_2f') | (mustard_train_val.harvest_period != 'feb_1f')]          \n"
   ]
  },
  {
   "cell_type": "code",
   "execution_count": 13,
   "id": "b8e39126-07e7-4096-afe0-874296286107",
   "metadata": {},
   "outputs": [
    {
     "data": {
      "text/html": [
       "<div>\n",
       "<style scoped>\n",
       "    .dataframe tbody tr th:only-of-type {\n",
       "        vertical-align: middle;\n",
       "    }\n",
       "\n",
       "    .dataframe tbody tr th {\n",
       "        vertical-align: top;\n",
       "    }\n",
       "\n",
       "    .dataframe thead th {\n",
       "        text-align: right;\n",
       "    }\n",
       "</style>\n",
       "<table border=\"1\" class=\"dataframe\">\n",
       "  <thead>\n",
       "    <tr style=\"text-align: right;\">\n",
       "      <th>harvest_period</th>\n",
       "      <th>feb_1f</th>\n",
       "      <th>feb_2f</th>\n",
       "      <th>mar_1f</th>\n",
       "      <th>mar_2f</th>\n",
       "      <th>All</th>\n",
       "    </tr>\n",
       "    <tr>\n",
       "      <th>sowing_period</th>\n",
       "      <th></th>\n",
       "      <th></th>\n",
       "      <th></th>\n",
       "      <th></th>\n",
       "      <th></th>\n",
       "    </tr>\n",
       "  </thead>\n",
       "  <tbody>\n",
       "    <tr>\n",
       "      <th>dec_1f</th>\n",
       "      <td>0</td>\n",
       "      <td>0</td>\n",
       "      <td>1987</td>\n",
       "      <td>3103</td>\n",
       "      <td>5090</td>\n",
       "    </tr>\n",
       "    <tr>\n",
       "      <th>dec_2f</th>\n",
       "      <td>0</td>\n",
       "      <td>0</td>\n",
       "      <td>19</td>\n",
       "      <td>169</td>\n",
       "      <td>188</td>\n",
       "    </tr>\n",
       "    <tr>\n",
       "      <th>nov_1f</th>\n",
       "      <td>108</td>\n",
       "      <td>1402</td>\n",
       "      <td>1925</td>\n",
       "      <td>181</td>\n",
       "      <td>3616</td>\n",
       "    </tr>\n",
       "    <tr>\n",
       "      <th>nov_2f</th>\n",
       "      <td>8</td>\n",
       "      <td>1056</td>\n",
       "      <td>4435</td>\n",
       "      <td>1750</td>\n",
       "      <td>7249</td>\n",
       "    </tr>\n",
       "    <tr>\n",
       "      <th>oct_2f</th>\n",
       "      <td>55</td>\n",
       "      <td>67</td>\n",
       "      <td>28</td>\n",
       "      <td>14</td>\n",
       "      <td>164</td>\n",
       "    </tr>\n",
       "    <tr>\n",
       "      <th>All</th>\n",
       "      <td>171</td>\n",
       "      <td>2525</td>\n",
       "      <td>8394</td>\n",
       "      <td>5217</td>\n",
       "      <td>16307</td>\n",
       "    </tr>\n",
       "  </tbody>\n",
       "</table>\n",
       "</div>"
      ],
      "text/plain": [
       "harvest_period  feb_1f  feb_2f  mar_1f  mar_2f    All\n",
       "sowing_period                                        \n",
       "dec_1f               0       0    1987    3103   5090\n",
       "dec_2f               0       0      19     169    188\n",
       "nov_1f             108    1402    1925     181   3616\n",
       "nov_2f               8    1056    4435    1750   7249\n",
       "oct_2f              55      67      28      14    164\n",
       "All                171    2525    8394    5217  16307"
      ]
     },
     "metadata": {},
     "output_type": "display_data"
    },
    {
     "data": {
      "text/html": [
       "<div>\n",
       "<style scoped>\n",
       "    .dataframe tbody tr th:only-of-type {\n",
       "        vertical-align: middle;\n",
       "    }\n",
       "\n",
       "    .dataframe tbody tr th {\n",
       "        vertical-align: top;\n",
       "    }\n",
       "\n",
       "    .dataframe thead th {\n",
       "        text-align: right;\n",
       "    }\n",
       "</style>\n",
       "<table border=\"1\" class=\"dataframe\">\n",
       "  <thead>\n",
       "    <tr style=\"text-align: right;\">\n",
       "      <th>harvest_period</th>\n",
       "      <th>feb_1f</th>\n",
       "      <th>feb_2f</th>\n",
       "      <th>jan_2f</th>\n",
       "      <th>mar_1f</th>\n",
       "      <th>mar_2f</th>\n",
       "      <th>All</th>\n",
       "    </tr>\n",
       "    <tr>\n",
       "      <th>sowing_period</th>\n",
       "      <th></th>\n",
       "      <th></th>\n",
       "      <th></th>\n",
       "      <th></th>\n",
       "      <th></th>\n",
       "      <th></th>\n",
       "    </tr>\n",
       "  </thead>\n",
       "  <tbody>\n",
       "    <tr>\n",
       "      <th>nov_1f</th>\n",
       "      <td>28</td>\n",
       "      <td>288</td>\n",
       "      <td>0</td>\n",
       "      <td>376</td>\n",
       "      <td>18</td>\n",
       "      <td>710</td>\n",
       "    </tr>\n",
       "    <tr>\n",
       "      <th>nov_2f</th>\n",
       "      <td>0</td>\n",
       "      <td>2</td>\n",
       "      <td>0</td>\n",
       "      <td>13</td>\n",
       "      <td>0</td>\n",
       "      <td>15</td>\n",
       "    </tr>\n",
       "    <tr>\n",
       "      <th>oct_2f</th>\n",
       "      <td>146</td>\n",
       "      <td>319</td>\n",
       "      <td>10</td>\n",
       "      <td>60</td>\n",
       "      <td>4</td>\n",
       "      <td>539</td>\n",
       "    </tr>\n",
       "    <tr>\n",
       "      <th>All</th>\n",
       "      <td>174</td>\n",
       "      <td>609</td>\n",
       "      <td>10</td>\n",
       "      <td>449</td>\n",
       "      <td>22</td>\n",
       "      <td>1264</td>\n",
       "    </tr>\n",
       "  </tbody>\n",
       "</table>\n",
       "</div>"
      ],
      "text/plain": [
       "harvest_period  feb_1f  feb_2f  jan_2f  mar_1f  mar_2f   All\n",
       "sowing_period                                               \n",
       "nov_1f              28     288       0     376      18   710\n",
       "nov_2f               0       2       0      13       0    15\n",
       "oct_2f             146     319      10      60       4   539\n",
       "All                174     609      10     449      22  1264"
      ]
     },
     "metadata": {},
     "output_type": "display_data"
    }
   ],
   "source": [
    "# Combinations dropped\n",
    "\n",
    "display(pd.crosstab(wheat_train_val['sowing_period'], wheat_train_val['harvest_period'], margins=True))\n",
    "display(pd.crosstab(mustard_train_val['sowing_period'], mustard_train_val['harvest_period'], margins=True))"
   ]
  },
  {
   "cell_type": "code",
   "execution_count": 14,
   "id": "896492d8",
   "metadata": {
    "canvas": {
     "comments": [],
     "componentType": "CodeCell",
     "copiedOriginId": null,
     "diskcache": false,
     "headerColor": "transparent",
     "id": "386a6453-6277-4804-a70d-e4e8aaeb574e",
     "isComponent": false,
     "name": "",
     "parents": []
    }
   },
   "outputs": [
    {
     "data": {
      "text/plain": [
       "2.3330696202531644"
      ]
     },
     "metadata": {},
     "output_type": "display_data"
    },
    {
     "data": {
      "text/plain": [
       "2.3333333333333335"
      ]
     },
     "metadata": {},
     "output_type": "display_data"
    }
   ],
   "source": [
    "target_wheat = int(mustard_train_val.shape[0] * 0.7/0.3)\n",
    "\n",
    "split_per = target_wheat/wheat_train_val.shape[0]\n",
    "\n",
    "_, wheat_train_val = train_test_split(wheat_train_val, test_size=split_per, \n",
    "                            stratify=wheat_train_val[['sowing_period', 'harvest_period']], random_state=0)\n",
    "\n",
    "display(wheat_train_val.shape[0]/mustard_train_val.shape[0], 0.7/0.3)\n",
    "\n",
    "# Creating train_val and test data sets\n",
    "train_val = pd.concat([wheat_train_val, mustard_train_val], ignore_index=True)\n",
    "test = pd.concat([wheat_test, mustard_test], ignore_index=True)"
   ]
  },
  {
   "cell_type": "markdown",
   "id": "d834605f",
   "metadata": {
    "canvas": {
     "comments": [],
     "componentType": "CodeCell",
     "copiedOriginId": null,
     "diskcache": false,
     "headerColor": "transparent",
     "id": "2ab87435-d252-4d63-aa06-ac84a9212e0b",
     "isComponent": false,
     "name": "",
     "parents": []
    }
   },
   "source": [
    "# Train_val Split"
   ]
  },
  {
   "cell_type": "code",
   "execution_count": 15,
   "id": "0b39e52e-30d2-4099-b5f1-409bc9977a3a",
   "metadata": {},
   "outputs": [
    {
     "data": {
      "text/html": [
       "<div>\n",
       "<style scoped>\n",
       "    .dataframe tbody tr th:only-of-type {\n",
       "        vertical-align: middle;\n",
       "    }\n",
       "\n",
       "    .dataframe tbody tr th {\n",
       "        vertical-align: top;\n",
       "    }\n",
       "\n",
       "    .dataframe thead th {\n",
       "        text-align: right;\n",
       "    }\n",
       "</style>\n",
       "<table border=\"1\" class=\"dataframe\">\n",
       "  <thead>\n",
       "    <tr style=\"text-align: right;\">\n",
       "      <th>harvest_period</th>\n",
       "      <th>feb_1f</th>\n",
       "      <th>feb_2f</th>\n",
       "      <th>jan_2f</th>\n",
       "      <th>mar_1f</th>\n",
       "      <th>mar_2f</th>\n",
       "      <th>All</th>\n",
       "    </tr>\n",
       "    <tr>\n",
       "      <th>sowing_period</th>\n",
       "      <th></th>\n",
       "      <th></th>\n",
       "      <th></th>\n",
       "      <th></th>\n",
       "      <th></th>\n",
       "      <th></th>\n",
       "    </tr>\n",
       "  </thead>\n",
       "  <tbody>\n",
       "    <tr>\n",
       "      <th>dec_1f</th>\n",
       "      <td>0</td>\n",
       "      <td>0</td>\n",
       "      <td>0</td>\n",
       "      <td>359</td>\n",
       "      <td>561</td>\n",
       "      <td>920</td>\n",
       "    </tr>\n",
       "    <tr>\n",
       "      <th>dec_2f</th>\n",
       "      <td>0</td>\n",
       "      <td>0</td>\n",
       "      <td>0</td>\n",
       "      <td>3</td>\n",
       "      <td>31</td>\n",
       "      <td>34</td>\n",
       "    </tr>\n",
       "    <tr>\n",
       "      <th>nov_1f</th>\n",
       "      <td>48</td>\n",
       "      <td>542</td>\n",
       "      <td>0</td>\n",
       "      <td>724</td>\n",
       "      <td>51</td>\n",
       "      <td>1365</td>\n",
       "    </tr>\n",
       "    <tr>\n",
       "      <th>nov_2f</th>\n",
       "      <td>1</td>\n",
       "      <td>193</td>\n",
       "      <td>0</td>\n",
       "      <td>815</td>\n",
       "      <td>316</td>\n",
       "      <td>1325</td>\n",
       "    </tr>\n",
       "    <tr>\n",
       "      <th>oct_2f</th>\n",
       "      <td>156</td>\n",
       "      <td>331</td>\n",
       "      <td>10</td>\n",
       "      <td>65</td>\n",
       "      <td>7</td>\n",
       "      <td>569</td>\n",
       "    </tr>\n",
       "    <tr>\n",
       "      <th>All</th>\n",
       "      <td>205</td>\n",
       "      <td>1066</td>\n",
       "      <td>10</td>\n",
       "      <td>1966</td>\n",
       "      <td>966</td>\n",
       "      <td>4213</td>\n",
       "    </tr>\n",
       "  </tbody>\n",
       "</table>\n",
       "</div>"
      ],
      "text/plain": [
       "harvest_period  feb_1f  feb_2f  jan_2f  mar_1f  mar_2f   All\n",
       "sowing_period                                               \n",
       "dec_1f               0       0       0     359     561   920\n",
       "dec_2f               0       0       0       3      31    34\n",
       "nov_1f              48     542       0     724      51  1365\n",
       "nov_2f               1     193       0     815     316  1325\n",
       "oct_2f             156     331      10      65       7   569\n",
       "All                205    1066      10    1966     966  4213"
      ]
     },
     "metadata": {},
     "output_type": "display_data"
    }
   ],
   "source": [
    "# Not using the combinations, where the count is just 1\n",
    "\n",
    "display(pd.crosstab(train_val['sowing_period'], train_val['harvest_period'], margins=True))"
   ]
  },
  {
   "cell_type": "code",
   "execution_count": 16,
   "id": "7316cccb-0c71-4bbe-8bf6-15c7a240da7c",
   "metadata": {},
   "outputs": [],
   "source": [
    "train_val = train_val[(train_val.sowing_period != 'nov_2f') | (train_val.harvest_period != 'feb_1f')]"
   ]
  },
  {
   "cell_type": "code",
   "execution_count": 17,
   "id": "c0980d3e",
   "metadata": {
    "canvas": {
     "comments": [],
     "componentType": "CodeCell",
     "copiedOriginId": null,
     "diskcache": false,
     "headerColor": "transparent",
     "id": "cb508dfc-9cab-47f3-993f-2e25d845fdd1",
     "isComponent": false,
     "name": "",
     "parents": []
    },
    "scrolled": true
   },
   "outputs": [
    {
     "data": {
      "text/plain": [
       "(3369, 15)"
      ]
     },
     "metadata": {},
     "output_type": "display_data"
    },
    {
     "data": {
      "text/plain": [
       "(843, 15)"
      ]
     },
     "metadata": {},
     "output_type": "display_data"
    },
    {
     "data": {
      "text/plain": [
       "crop_name\n",
       "Wheat      0.700208\n",
       "Mustard    0.299792\n",
       "Name: proportion, dtype: float64"
      ]
     },
     "metadata": {},
     "output_type": "display_data"
    },
    {
     "data": {
      "text/plain": [
       "crop_name\n",
       "Wheat      0.698695\n",
       "Mustard    0.301305\n",
       "Name: proportion, dtype: float64"
      ]
     },
     "metadata": {},
     "output_type": "display_data"
    }
   ],
   "source": [
    "train, val = train_test_split(train_val, test_size=0.2, \n",
    "                                   stratify=train_val[['crop_name', 'sowing_period', 'harvest_period']], random_state=0)\n",
    "\n",
    "display(train.shape, val.shape, train.crop_name.value_counts(normalize=True), val.crop_name.value_counts(normalize=True))"
   ]
  },
  {
   "cell_type": "markdown",
   "id": "6ed4c967",
   "metadata": {
    "canvas": {
     "comments": [],
     "componentType": "CodeCell",
     "copiedOriginId": null,
     "diskcache": false,
     "headerColor": "transparent",
     "id": "15dd0af3-a2cd-4f40-af94-53630017cd41",
     "isComponent": false,
     "name": "",
     "parents": []
    }
   },
   "source": [
    "# Label Encoding"
   ]
  },
  {
   "cell_type": "code",
   "execution_count": 18,
   "id": "21734766",
   "metadata": {
    "canvas": {
     "comments": [],
     "componentType": "CodeCell",
     "copiedOriginId": null,
     "diskcache": false,
     "headerColor": "transparent",
     "id": "56bfc2ed-dda8-464c-ade0-e2ee0b81d0c5",
     "isComponent": false,
     "name": "",
     "parents": []
    }
   },
   "outputs": [
    {
     "data": {
      "text/html": [
       "<div>\n",
       "<style scoped>\n",
       "    .dataframe tbody tr th:only-of-type {\n",
       "        vertical-align: middle;\n",
       "    }\n",
       "\n",
       "    .dataframe tbody tr th {\n",
       "        vertical-align: top;\n",
       "    }\n",
       "\n",
       "    .dataframe thead th {\n",
       "        text-align: right;\n",
       "    }\n",
       "</style>\n",
       "<table border=\"1\" class=\"dataframe\">\n",
       "  <thead>\n",
       "    <tr style=\"text-align: right;\">\n",
       "      <th></th>\n",
       "      <th>oct_2f</th>\n",
       "      <th>nov_1f</th>\n",
       "      <th>nov_2f</th>\n",
       "      <th>dec_1f</th>\n",
       "      <th>dec_2f</th>\n",
       "      <th>jan_1f</th>\n",
       "      <th>jan_2f</th>\n",
       "      <th>feb_1f</th>\n",
       "      <th>feb_2f</th>\n",
       "      <th>mar_1f</th>\n",
       "      <th>mar_2f</th>\n",
       "      <th>apr_1f</th>\n",
       "      <th>crop_name</th>\n",
       "    </tr>\n",
       "  </thead>\n",
       "  <tbody>\n",
       "    <tr>\n",
       "      <th>1904</th>\n",
       "      <td>142</td>\n",
       "      <td>125</td>\n",
       "      <td>130</td>\n",
       "      <td>139</td>\n",
       "      <td>175</td>\n",
       "      <td>182.0</td>\n",
       "      <td>186</td>\n",
       "      <td>188</td>\n",
       "      <td>188</td>\n",
       "      <td>184</td>\n",
       "      <td>155.0</td>\n",
       "      <td>122</td>\n",
       "      <td>1</td>\n",
       "    </tr>\n",
       "    <tr>\n",
       "      <th>1782</th>\n",
       "      <td>153</td>\n",
       "      <td>127</td>\n",
       "      <td>117</td>\n",
       "      <td>133</td>\n",
       "      <td>161</td>\n",
       "      <td>176.0</td>\n",
       "      <td>180</td>\n",
       "      <td>188</td>\n",
       "      <td>192</td>\n",
       "      <td>185</td>\n",
       "      <td>137.0</td>\n",
       "      <td>115</td>\n",
       "      <td>1</td>\n",
       "    </tr>\n",
       "    <tr>\n",
       "      <th>3543</th>\n",
       "      <td>134</td>\n",
       "      <td>151</td>\n",
       "      <td>180</td>\n",
       "      <td>188</td>\n",
       "      <td>187</td>\n",
       "      <td>185.0</td>\n",
       "      <td>195</td>\n",
       "      <td>175</td>\n",
       "      <td>137</td>\n",
       "      <td>120</td>\n",
       "      <td>118.0</td>\n",
       "      <td>114</td>\n",
       "      <td>0</td>\n",
       "    </tr>\n",
       "  </tbody>\n",
       "</table>\n",
       "</div>"
      ],
      "text/plain": [
       "      oct_2f  nov_1f  nov_2f  dec_1f  dec_2f  jan_1f  jan_2f  feb_1f  feb_2f  \\\n",
       "1904     142     125     130     139     175   182.0     186     188     188   \n",
       "1782     153     127     117     133     161   176.0     180     188     192   \n",
       "3543     134     151     180     188     187   185.0     195     175     137   \n",
       "\n",
       "      mar_1f  mar_2f  apr_1f  crop_name  \n",
       "1904     184   155.0     122          1  \n",
       "1782     185   137.0     115          1  \n",
       "3543     120   118.0     114          0  "
      ]
     },
     "execution_count": 18,
     "metadata": {},
     "output_type": "execute_result"
    }
   ],
   "source": [
    "for df in train, val, test:\n",
    "    df['crop_name'] = df.crop_name.apply(lambda crop: 1 if crop == 'Wheat' else 0)\n",
    "    df.drop(['sowing_period', 'harvest_period'], axis=1, inplace=True)\n",
    "    \n",
    "train.head(3)"
   ]
  },
  {
   "cell_type": "markdown",
   "id": "e98ee410",
   "metadata": {
    "canvas": {
     "comments": [],
     "componentType": "CodeCell",
     "copiedOriginId": null,
     "diskcache": false,
     "headerColor": "transparent",
     "id": "e30f1db2-b58a-4cf0-8781-fd58dfdc532e",
     "isComponent": false,
     "name": "",
     "parents": []
    }
   },
   "source": [
    "# File Export"
   ]
  },
  {
   "cell_type": "code",
   "execution_count": 19,
   "id": "74f4553f",
   "metadata": {
    "canvas": {
     "comments": [],
     "componentType": "CodeCell",
     "copiedOriginId": null,
     "diskcache": false,
     "headerColor": "transparent",
     "id": "abb33cce-6b0a-4a47-a1dc-7f11958893c9",
     "isComponent": false,
     "name": "",
     "parents": []
    }
   },
   "outputs": [],
   "source": [
    "train.to_csv(r'data_files/data_share/train-4.csv', index=False)\n",
    "test.to_csv(r'data_files/data_share/test-4.csv', index=False)\n",
    "val.to_csv(r'data_files/data_share/val-4.csv', index=False)"
   ]
  },
  {
   "cell_type": "code",
   "execution_count": 20,
   "id": "b877dbe1",
   "metadata": {
    "canvas": {
     "comments": [],
     "componentType": "CodeCell",
     "copiedOriginId": null,
     "diskcache": false,
     "headerColor": "transparent",
     "id": "cdb71820-7fae-4668-8b60-64c6f8f250d0",
     "isComponent": false,
     "name": "",
     "parents": []
    }
   },
   "outputs": [
    {
     "data": {
      "text/plain": [
       "(crop_name\n",
       " 1    2359\n",
       " 0    1010\n",
       " Name: count, dtype: int64,\n",
       " crop_name\n",
       " 1    589\n",
       " 0    254\n",
       " Name: count, dtype: int64,\n",
       " crop_name\n",
       " 1    5760\n",
       " 0     708\n",
       " Name: count, dtype: int64)"
      ]
     },
     "execution_count": 20,
     "metadata": {},
     "output_type": "execute_result"
    }
   ],
   "source": [
    "train.crop_name.value_counts(), val.crop_name.value_counts(), test.crop_name.value_counts()"
   ]
  },
  {
   "cell_type": "code",
   "execution_count": 21,
   "id": "b114ad30-4e51-4c1d-85fc-926bdfd6cf6c",
   "metadata": {},
   "outputs": [
    {
     "data": {
      "text/plain": [
       "(3369, 6468, 843)"
      ]
     },
     "execution_count": 21,
     "metadata": {},
     "output_type": "execute_result"
    }
   ],
   "source": [
    "train.shape[0], test.shape[0], val.shape[0]"
   ]
  },
  {
   "cell_type": "code",
   "execution_count": null,
   "id": "640c9213-a288-4b91-8acd-869581e6cf7d",
   "metadata": {},
   "outputs": [],
   "source": []
  }
 ],
 "metadata": {
  "canvas": {
   "colorPalette": [
    "inherit",
    "inherit",
    "inherit",
    "inherit",
    "inherit",
    "inherit",
    "inherit",
    "inherit",
    "inherit",
    "inherit"
   ],
   "parameters": [],
   "version": "1.0"
  },
  "kernelspec": {
   "display_name": "Python 3 (ipykernel)",
   "language": "python",
   "name": "python3"
  },
  "language_info": {
   "codemirror_mode": {
    "name": "ipython",
    "version": 3
   },
   "file_extension": ".py",
   "mimetype": "text/x-python",
   "name": "python",
   "nbconvert_exporter": "python",
   "pygments_lexer": "ipython3",
   "version": "3.9.17"
  }
 },
 "nbformat": 4,
 "nbformat_minor": 5
}
